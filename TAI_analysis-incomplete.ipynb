{
 "cells": [
  {
   "cell_type": "markdown",
   "metadata": {
    "extensions": {
     "jupyter_dashboards": {
      "version": 1,
      "views": {
       "grid_default": {},
       "report_default": {
        "hidden": false
       }
      }
     }
    }
   },
   "source": [
    "<!--associate:\n",
    "# The comment must be at the very beginning of a cell, by itself, starting with 'associate:'. \n",
    "# Since it is not meant to appear in the output when run, the assumption is that it can \n",
    "# require a cell to itself. This refers to  directories, relative to the notebook.\n",
    "TAI.png\n",
    "-->"
   ]
  },
  {
   "cell_type": "markdown",
   "metadata": {
    "extensions": {
     "jupyter_dashboards": {
      "version": 1,
      "views": {
       "grid_default": {
        "col": 0,
        "height": 6,
        "hidden": false,
        "row": 0,
        "width": 12
       },
       "report_default": {
        "hidden": false
       }
      }
     }
    },
    "nbpresent": {
     "id": "94ccb58c-75e6-45b9-a50b-c713674905a6"
    }
   },
   "source": [
    "# Module 1: Is the hourglass model for gene expression really supported by the data?\n",
    "### Paper to be examined: \n",
    "“A phylogenetically based transcriptome age index mirrors ontogenetic divergence patterns”, Nature 9;468(7325):815-8 (2010)[1]\n",
    "### Key claim of the paper: \n",
    "\"Gene expression follows the so-called hourglass pattern observed for morphological features of development, which are most similar to each other in the phylotypic stage in mid-development.\"\n",
    "\n",
    "### Schedule:\n",
    "* H1: General introduction to the paper/motivation\n",
    "* H2-3: Write code to import the data and start computing transcriptome age index (TAI)\n",
    "* H4-6: Aim to reproduce figure 1 of the paper – help/scripts will be given if needed.\n",
    "* H7: Discussion: “Are you convinced of this result? What might have gone wrong?”\n",
    "* H8: Redo analysis using log-transformed data\n",
    "* H9: Summarize results (e.g. on this wiki)\n",
    "\n",
    "\n",
    "### Key bioinformatics concept of this module: \n",
    "\"Data normalization is important and can impact the results of subsequent analyses!\"\n"
   ]
  },
  {
   "cell_type": "markdown",
   "metadata": {
    "extensions": {
     "jupyter_dashboards": {
      "version": 1,
      "views": {
       "grid_default": {
        "col": 4,
        "height": 4,
        "hidden": false,
        "row": 16,
        "width": 4
       },
       "report_default": {
        "hidden": false
       }
      }
     }
    },
    "nbpresent": {
     "id": "a8ffc5d5-1f8e-40cf-bc5d-261d462c3778"
    }
   },
   "source": [
    "# Installation and Setup\n",
    "\n",
    "* Install the Anaconda distribution of Python 3.x.\n"
   ]
  },
  {
   "cell_type": "markdown",
   "metadata": {
    "extensions": {
     "jupyter_dashboards": {
      "version": 1,
      "views": {
       "grid_default": {
        "col": 0,
        "height": 4,
        "hidden": false,
        "row": 46,
        "width": 12
       },
       "report_default": {
        "hidden": false
       }
      }
     }
    },
    "nbpresent": {
     "id": "fe718580-021c-43bb-ab0d-41037543f051"
    }
   },
   "source": [
    "# Libraries\n",
    "Will be using [**GEOparse**](https://geoparse.readthedocs.io/en/latest/usage.html#working-with-geo-accession) for for fetching gene expression data and [**pandas**](https://pandas.pydata.org/pandas-docs/stable/10min.html) for data manipulation and preprocessing."
   ]
  },
  {
   "cell_type": "code",
   "execution_count": 2,
   "metadata": {
    "collapsed": true,
    "extensions": {
     "jupyter_dashboards": {
      "version": 1,
      "views": {
       "grid_default": {
        "hidden": true
       },
       "report_default": {
        "hidden": true
       }
      }
     }
    },
    "nbpresent": {
     "id": "cee38582-025b-4126-9b52-142612b10ffd"
    }
   },
   "outputs": [],
   "source": [
    "########### import necessary packages\n",
    "import pandas as pd\n",
    "import numpy as np\n",
    "import GEOparse\n",
    "import matplotlib.pyplot as plt"
   ]
  },
  {
   "cell_type": "markdown",
   "metadata": {
    "extensions": {
     "jupyter_dashboards": {
      "version": 1,
      "views": {
       "grid_default": {
        "col": 0,
        "height": 10,
        "hidden": false,
        "row": 6,
        "width": 12
       },
       "report_default": {
        "hidden": false
       }
      }
     }
    },
    "nbpresent": {
     "id": "ee3342b3-8f54-4db8-b879-7ab3f9997a65"
    }
   },
   "source": [
    "# Read gene expression data \n"
   ]
  },
  {
   "cell_type": "code",
   "execution_count": 3,
   "metadata": {
    "extensions": {
     "jupyter_dashboards": {
      "version": 1,
      "views": {
       "grid_default": {
        "hidden": true
       },
       "report_default": {
        "hidden": true
       }
      }
     }
    }
   },
   "outputs": [
    {
     "name": "stderr",
     "output_type": "stream",
     "text": [
      "12-Nov-2018 15:10:53 INFO GEOparse - Downloading ftp://ftp.ncbi.nlm.nih.gov/geo/series/GSE24nnn/GSE24616/soft/GSE24616_family.soft.gz to ./GSE24616_family.soft.gz\n",
      "12-Nov-2018 15:10:53 INFO utils - Downloading ftp://ftp.ncbi.nlm.nih.gov/geo/series/GSE24nnn/GSE24616/soft/GSE24616_family.soft.gz to ./GSE24616_family.soft.gz\n",
      "\n"
     ]
    },
    {
     "name": "stdout",
     "output_type": "stream",
     "text": [
      "D: 100% - 50.6MiB  / 50.6MiB  eta 0:00:00\n"
     ]
    },
    {
     "name": "stderr",
     "output_type": "stream",
     "text": [
      "12-Nov-2018 15:11:30 INFO GEOparse - Parsing ./GSE24616_family.soft.gz: \n",
      "12-Nov-2018 15:11:30 DEBUG GEOparse - DATABASE: GeoMiame\n",
      "12-Nov-2018 15:11:30 DEBUG GEOparse - SERIES: GSE24616\n",
      "12-Nov-2018 15:11:30 DEBUG GEOparse - PLATFORM: GPL6457\n",
      "/Users/schoobdar/anaconda2/envs/py3/lib/python3.6/site-packages/GEOparse/GEOparse.py:330: FutureWarning: from_csv is deprecated. Please use read_csv(...) instead. Note that some of the default arguments are different, so please refer to the documentation for from_csv when changing your function calls\n",
      "  return DataFrame.from_csv(StringIO(data), index_col=None, sep=\"\\t\")\n",
      "12-Nov-2018 15:11:31 DEBUG GEOparse - SAMPLE: GSM606866\n",
      "12-Nov-2018 15:11:31 DEBUG GEOparse - SAMPLE: GSM606867\n",
      "12-Nov-2018 15:11:32 DEBUG GEOparse - SAMPLE: GSM606868\n",
      "12-Nov-2018 15:11:32 DEBUG GEOparse - SAMPLE: GSM606869\n",
      "12-Nov-2018 15:11:32 DEBUG GEOparse - SAMPLE: GSM606870\n",
      "12-Nov-2018 15:11:33 DEBUG GEOparse - SAMPLE: GSM606871\n",
      "12-Nov-2018 15:11:33 DEBUG GEOparse - SAMPLE: GSM606872\n",
      "12-Nov-2018 15:11:33 DEBUG GEOparse - SAMPLE: GSM606873\n",
      "12-Nov-2018 15:11:33 DEBUG GEOparse - SAMPLE: GSM606874\n",
      "12-Nov-2018 15:11:33 DEBUG GEOparse - SAMPLE: GSM606875\n",
      "12-Nov-2018 15:11:34 DEBUG GEOparse - SAMPLE: GSM606876\n",
      "12-Nov-2018 15:11:34 DEBUG GEOparse - SAMPLE: GSM606877\n",
      "12-Nov-2018 15:11:34 DEBUG GEOparse - SAMPLE: GSM606878\n",
      "12-Nov-2018 15:11:34 DEBUG GEOparse - SAMPLE: GSM606879\n",
      "12-Nov-2018 15:11:34 DEBUG GEOparse - SAMPLE: GSM606880\n",
      "12-Nov-2018 15:11:35 DEBUG GEOparse - SAMPLE: GSM606881\n",
      "12-Nov-2018 15:11:35 DEBUG GEOparse - SAMPLE: GSM606882\n",
      "12-Nov-2018 15:11:35 DEBUG GEOparse - SAMPLE: GSM606883\n",
      "12-Nov-2018 15:11:35 DEBUG GEOparse - SAMPLE: GSM606884\n",
      "12-Nov-2018 15:11:35 DEBUG GEOparse - SAMPLE: GSM606885\n",
      "12-Nov-2018 15:11:36 DEBUG GEOparse - SAMPLE: GSM606886\n",
      "12-Nov-2018 15:11:36 DEBUG GEOparse - SAMPLE: GSM606887\n",
      "12-Nov-2018 15:11:36 DEBUG GEOparse - SAMPLE: GSM606888\n",
      "12-Nov-2018 15:11:36 DEBUG GEOparse - SAMPLE: GSM606889\n",
      "12-Nov-2018 15:11:36 DEBUG GEOparse - SAMPLE: GSM606890\n",
      "12-Nov-2018 15:11:37 DEBUG GEOparse - SAMPLE: GSM606891\n",
      "12-Nov-2018 15:11:37 DEBUG GEOparse - SAMPLE: GSM606892\n",
      "12-Nov-2018 15:11:37 DEBUG GEOparse - SAMPLE: GSM606893\n",
      "12-Nov-2018 15:11:37 DEBUG GEOparse - SAMPLE: GSM606894\n",
      "12-Nov-2018 15:11:37 DEBUG GEOparse - SAMPLE: GSM606895\n",
      "12-Nov-2018 15:11:38 DEBUG GEOparse - SAMPLE: GSM606896\n",
      "12-Nov-2018 15:11:38 DEBUG GEOparse - SAMPLE: GSM606897\n",
      "12-Nov-2018 15:11:38 DEBUG GEOparse - SAMPLE: GSM606898\n",
      "12-Nov-2018 15:11:38 DEBUG GEOparse - SAMPLE: GSM606899\n",
      "12-Nov-2018 15:11:38 DEBUG GEOparse - SAMPLE: GSM606900\n",
      "12-Nov-2018 15:11:39 DEBUG GEOparse - SAMPLE: GSM606901\n",
      "12-Nov-2018 15:11:39 DEBUG GEOparse - SAMPLE: GSM606902\n",
      "12-Nov-2018 15:11:39 DEBUG GEOparse - SAMPLE: GSM606903\n",
      "12-Nov-2018 15:11:39 DEBUG GEOparse - SAMPLE: GSM606904\n",
      "12-Nov-2018 15:11:39 DEBUG GEOparse - SAMPLE: GSM606905\n",
      "12-Nov-2018 15:11:40 DEBUG GEOparse - SAMPLE: GSM606906\n",
      "12-Nov-2018 15:11:40 DEBUG GEOparse - SAMPLE: GSM606907\n",
      "12-Nov-2018 15:11:40 DEBUG GEOparse - SAMPLE: GSM606908\n",
      "12-Nov-2018 15:11:40 DEBUG GEOparse - SAMPLE: GSM606909\n",
      "12-Nov-2018 15:11:41 DEBUG GEOparse - SAMPLE: GSM606910\n",
      "12-Nov-2018 15:11:41 DEBUG GEOparse - SAMPLE: GSM606911\n",
      "12-Nov-2018 15:11:41 DEBUG GEOparse - SAMPLE: GSM606912\n",
      "12-Nov-2018 15:11:41 DEBUG GEOparse - SAMPLE: GSM606913\n",
      "12-Nov-2018 15:11:41 DEBUG GEOparse - SAMPLE: GSM606914\n",
      "12-Nov-2018 15:11:41 DEBUG GEOparse - SAMPLE: GSM606915\n",
      "12-Nov-2018 15:11:41 DEBUG GEOparse - SAMPLE: GSM606916\n",
      "12-Nov-2018 15:11:41 DEBUG GEOparse - SAMPLE: GSM606917\n",
      "12-Nov-2018 15:11:42 DEBUG GEOparse - SAMPLE: GSM606918\n",
      "12-Nov-2018 15:11:42 DEBUG GEOparse - SAMPLE: GSM606919\n",
      "12-Nov-2018 15:11:42 DEBUG GEOparse - SAMPLE: GSM606920\n",
      "12-Nov-2018 15:11:42 DEBUG GEOparse - SAMPLE: GSM606921\n",
      "12-Nov-2018 15:11:42 DEBUG GEOparse - SAMPLE: GSM606922\n",
      "12-Nov-2018 15:11:42 DEBUG GEOparse - SAMPLE: GSM606923\n",
      "12-Nov-2018 15:11:42 DEBUG GEOparse - SAMPLE: GSM606924\n",
      "12-Nov-2018 15:11:42 DEBUG GEOparse - SAMPLE: GSM606925\n",
      "12-Nov-2018 15:11:43 DEBUG GEOparse - SAMPLE: GSM606926\n",
      "12-Nov-2018 15:11:43 DEBUG GEOparse - SAMPLE: GSM606927\n",
      "12-Nov-2018 15:11:43 DEBUG GEOparse - SAMPLE: GSM606928\n",
      "12-Nov-2018 15:11:43 DEBUG GEOparse - SAMPLE: GSM606929\n",
      "12-Nov-2018 15:11:43 DEBUG GEOparse - SAMPLE: GSM606930\n",
      "12-Nov-2018 15:11:43 DEBUG GEOparse - SAMPLE: GSM606931\n",
      "12-Nov-2018 15:11:43 DEBUG GEOparse - SAMPLE: GSM606932\n",
      "12-Nov-2018 15:11:43 DEBUG GEOparse - SAMPLE: GSM606933\n",
      "12-Nov-2018 15:11:43 DEBUG GEOparse - SAMPLE: GSM606934\n",
      "12-Nov-2018 15:11:44 DEBUG GEOparse - SAMPLE: GSM606935\n",
      "12-Nov-2018 15:11:44 DEBUG GEOparse - SAMPLE: GSM606936\n",
      "12-Nov-2018 15:11:44 DEBUG GEOparse - SAMPLE: GSM606937\n",
      "12-Nov-2018 15:11:44 DEBUG GEOparse - SAMPLE: GSM606938\n",
      "12-Nov-2018 15:11:44 DEBUG GEOparse - SAMPLE: GSM606939\n",
      "12-Nov-2018 15:11:44 DEBUG GEOparse - SAMPLE: GSM606940\n",
      "12-Nov-2018 15:11:44 DEBUG GEOparse - SAMPLE: GSM606941\n",
      "12-Nov-2018 15:11:45 DEBUG GEOparse - SAMPLE: GSM606942\n",
      "12-Nov-2018 15:11:45 DEBUG GEOparse - SAMPLE: GSM606943\n",
      "12-Nov-2018 15:11:45 DEBUG GEOparse - SAMPLE: GSM606944\n",
      "12-Nov-2018 15:11:45 DEBUG GEOparse - SAMPLE: GSM606945\n",
      "12-Nov-2018 15:11:45 DEBUG GEOparse - SAMPLE: GSM606946\n",
      "12-Nov-2018 15:11:45 DEBUG GEOparse - SAMPLE: GSM606947\n",
      "12-Nov-2018 15:11:45 DEBUG GEOparse - SAMPLE: GSM606948\n",
      "12-Nov-2018 15:11:45 DEBUG GEOparse - SAMPLE: GSM606949\n",
      "12-Nov-2018 15:11:46 DEBUG GEOparse - SAMPLE: GSM606950\n",
      "12-Nov-2018 15:11:46 DEBUG GEOparse - SAMPLE: GSM606951\n",
      "12-Nov-2018 15:11:46 DEBUG GEOparse - SAMPLE: GSM606952\n",
      "12-Nov-2018 15:11:46 DEBUG GEOparse - SAMPLE: GSM606953\n",
      "12-Nov-2018 15:11:46 DEBUG GEOparse - SAMPLE: GSM606954\n",
      "12-Nov-2018 15:11:46 DEBUG GEOparse - SAMPLE: GSM606955\n",
      "12-Nov-2018 15:11:46 DEBUG GEOparse - SAMPLE: GSM606956\n",
      "12-Nov-2018 15:11:46 DEBUG GEOparse - SAMPLE: GSM606957\n",
      "12-Nov-2018 15:11:47 DEBUG GEOparse - SAMPLE: GSM606958\n",
      "12-Nov-2018 15:11:47 DEBUG GEOparse - SAMPLE: GSM606959\n",
      "12-Nov-2018 15:11:47 DEBUG GEOparse - SAMPLE: GSM606960\n",
      "12-Nov-2018 15:11:47 DEBUG GEOparse - SAMPLE: GSM606961\n",
      "12-Nov-2018 15:11:47 DEBUG GEOparse - SAMPLE: GSM606962\n",
      "12-Nov-2018 15:11:47 DEBUG GEOparse - SAMPLE: GSM606963\n",
      "12-Nov-2018 15:11:47 DEBUG GEOparse - SAMPLE: GSM606964\n",
      "12-Nov-2018 15:11:47 DEBUG GEOparse - SAMPLE: GSM606965\n",
      "12-Nov-2018 15:11:47 DEBUG GEOparse - SAMPLE: GSM606966\n",
      "12-Nov-2018 15:11:48 DEBUG GEOparse - SAMPLE: GSM606967\n",
      "12-Nov-2018 15:11:48 DEBUG GEOparse - SAMPLE: GSM606968\n",
      "12-Nov-2018 15:11:48 DEBUG GEOparse - SAMPLE: GSM606969\n",
      "12-Nov-2018 15:11:48 DEBUG GEOparse - SAMPLE: GSM606970\n",
      "12-Nov-2018 15:11:48 DEBUG GEOparse - SAMPLE: GSM606971\n",
      "12-Nov-2018 15:11:48 DEBUG GEOparse - SAMPLE: GSM606972\n",
      "12-Nov-2018 15:11:48 DEBUG GEOparse - SAMPLE: GSM606973\n",
      "12-Nov-2018 15:11:48 DEBUG GEOparse - SAMPLE: GSM606974\n",
      "12-Nov-2018 15:11:49 DEBUG GEOparse - SAMPLE: GSM606975\n",
      "12-Nov-2018 15:11:49 DEBUG GEOparse - SAMPLE: GSM606976\n",
      "12-Nov-2018 15:11:49 DEBUG GEOparse - SAMPLE: GSM606977\n",
      "12-Nov-2018 15:11:49 DEBUG GEOparse - SAMPLE: GSM606978\n",
      "12-Nov-2018 15:11:49 DEBUG GEOparse - SAMPLE: GSM606979\n",
      "12-Nov-2018 15:11:49 DEBUG GEOparse - SAMPLE: GSM606980\n",
      "12-Nov-2018 15:11:49 DEBUG GEOparse - SAMPLE: GSM606981\n",
      "12-Nov-2018 15:11:49 DEBUG GEOparse - SAMPLE: GSM606982\n",
      "12-Nov-2018 15:11:50 DEBUG GEOparse - SAMPLE: GSM606983\n",
      "12-Nov-2018 15:11:50 DEBUG GEOparse - SAMPLE: GSM606984\n",
      "12-Nov-2018 15:11:50 DEBUG GEOparse - SAMPLE: GSM606985\n",
      "12-Nov-2018 15:11:50 DEBUG GEOparse - SAMPLE: GSM606986\n",
      "12-Nov-2018 15:11:50 DEBUG GEOparse - SAMPLE: GSM606987\n",
      "12-Nov-2018 15:11:50 DEBUG GEOparse - SAMPLE: GSM606988\n",
      "12-Nov-2018 15:11:50 DEBUG GEOparse - SAMPLE: GSM606989\n",
      "12-Nov-2018 15:11:50 DEBUG GEOparse - SAMPLE: GSM606990\n",
      "12-Nov-2018 15:11:50 DEBUG GEOparse - SAMPLE: GSM606991\n",
      "12-Nov-2018 15:11:51 DEBUG GEOparse - SAMPLE: GSM606992\n",
      "12-Nov-2018 15:11:51 DEBUG GEOparse - SAMPLE: GSM606993\n",
      "12-Nov-2018 15:11:51 DEBUG GEOparse - SAMPLE: GSM606994\n",
      "12-Nov-2018 15:11:51 DEBUG GEOparse - SAMPLE: GSM606995\n",
      "12-Nov-2018 15:11:51 DEBUG GEOparse - SAMPLE: GSM606996\n",
      "12-Nov-2018 15:11:51 DEBUG GEOparse - SAMPLE: GSM606997\n",
      "12-Nov-2018 15:11:51 DEBUG GEOparse - SAMPLE: GSM606998\n",
      "12-Nov-2018 15:11:51 DEBUG GEOparse - SAMPLE: GSM606999\n",
      "12-Nov-2018 15:11:52 DEBUG GEOparse - SAMPLE: GSM607000\n",
      "12-Nov-2018 15:11:52 DEBUG GEOparse - SAMPLE: GSM607001\n"
     ]
    },
    {
     "name": "stderr",
     "output_type": "stream",
     "text": [
      "12-Nov-2018 15:11:52 DEBUG GEOparse - SAMPLE: GSM607002\n",
      "12-Nov-2018 15:11:52 DEBUG GEOparse - SAMPLE: GSM607003\n",
      "12-Nov-2018 15:11:52 DEBUG GEOparse - SAMPLE: GSM607004\n",
      "12-Nov-2018 15:11:52 DEBUG GEOparse - SAMPLE: GSM607005\n",
      "12-Nov-2018 15:11:52 DEBUG GEOparse - SAMPLE: GSM607006\n",
      "12-Nov-2018 15:11:52 DEBUG GEOparse - SAMPLE: GSM607007\n",
      "12-Nov-2018 15:11:53 DEBUG GEOparse - SAMPLE: GSM607008\n",
      "12-Nov-2018 15:11:53 DEBUG GEOparse - SAMPLE: GSM607009\n",
      "12-Nov-2018 15:11:53 DEBUG GEOparse - SAMPLE: GSM607010\n",
      "12-Nov-2018 15:11:53 DEBUG GEOparse - SAMPLE: GSM607011\n",
      "12-Nov-2018 15:11:53 DEBUG GEOparse - SAMPLE: GSM607012\n"
     ]
    }
   ],
   "source": [
    "############# Download the data\n",
    "file_name = 'GSE24616'\n",
    "# write your code here \n",
    "gse = GEOparse.get_GEO(geo=file_name, destdir=\"./\")"
   ]
  },
  {
   "cell_type": "markdown",
   "metadata": {
    "extensions": {
     "jupyter_dashboards": {
      "version": 1,
      "views": {
       "grid_default": {
        "col": 0,
        "height": 12,
        "hidden": false,
        "row": 50,
        "width": 12
       },
       "report_default": {
        "hidden": false
       }
      }
     }
    },
    "nbpresent": {
     "id": "cf0719ca-eef2-49ca-bf98-f9d185126b8a"
    }
   },
   "source": [
    "## GSE data structure:\n",
    "Let's take a look at gene expression data stucture and accession.\n",
    "\n",
    "**Data Sturcture:**\n",
    "    - gse.gsms\n",
    "        - gse.gsms.metadata\n",
    "        - gse.gsms.name\n",
    "        - gse.gsms.table\n",
    "    - gse.gpl\n",
    "        - gse.gpl.metadata\n",
    "        - gse.gpl.name\n",
    "        - gse.gpl.table\n",
    "        \n",
    "**GSE file name:** GSE24616"
   ]
  },
  {
   "cell_type": "code",
   "execution_count": null,
   "metadata": {
    "collapsed": true,
    "extensions": {
     "jupyter_dashboards": {
      "version": 1,
      "views": {
       "grid_default": {
        "hidden": true
       },
       "report_default": {
        "hidden": true
       }
      }
     }
    }
   },
   "outputs": [],
   "source": [
    "########### Explore an example of GSE content\n",
    "print (\"GSM example:\")\n",
    "for gsm_name, gsm in gse.gsms.items():\n",
    "    print (\"Name: \", gsm_name)\n",
    "    print ('*'*100)\n",
    "    print (\"Metadata:\"),\n",
    "    for key, value in gsm.metadata.items():\n",
    "        print(\" - %s : %s\" % (key, \", \".join(value)))\n",
    "    print('*'*100)\n",
    "    print (\"Table data:\"),\n",
    "    print (gsm.table.head())\n",
    "    break"
   ]
  },
  {
   "cell_type": "code",
   "execution_count": null,
   "metadata": {
    "collapsed": true,
    "extensions": {
     "jupyter_dashboards": {
      "version": 1,
      "views": {
       "grid_default": {
        "hidden": true
       },
       "report_default": {
        "hidden": true
       }
      }
     }
    }
   },
   "outputs": [],
   "source": [
    "print (\"GPL example:\")\n",
    "for gpl_name, gpl in gse.gpls.items():\n",
    "    print (\"Name: \", gpl_name)\n",
    "    print ('*'*100)\n",
    "    print (\"Metadata:\"),\n",
    "    for key, value in gpl.metadata.items():\n",
    "        print (\" - %s : %s\" % (key, \", \".join(value)))\n",
    "    print ('*'*100)\n",
    "    print (\"Table data:\"),\n",
    "    print (gpl.table.head())\n",
    "    break"
   ]
  },
  {
   "cell_type": "markdown",
   "metadata": {
    "extensions": {
     "jupyter_dashboards": {
      "version": 1,
      "views": {
       "grid_default": {
        "col": 0,
        "height": 4,
        "hidden": false,
        "row": 16,
        "width": 4
       },
       "report_default": {
        "hidden": false
       }
      }
     }
    },
    "nbpresent": {
     "id": "3e38e7a7-46fe-4d24-8142-44c4f15e7966"
    }
   },
   "source": [
    "# Read age index data file"
   ]
  },
  {
   "cell_type": "code",
   "execution_count": 3,
   "metadata": {
    "collapsed": true,
    "extensions": {
     "jupyter_dashboards": {
      "version": 1,
      "views": {
       "grid_default": {
        "col": 4,
        "height": 8,
        "hidden": false,
        "row": 34,
        "width": 4
       },
       "report_default": {
        "hidden": false
       }
      }
     }
    }
   },
   "outputs": [],
   "source": [
    "########### Read in age index data\n",
    "# write your code here \n",
    "########### Set ProbeID as the index of dataframe\n",
    "# write your code here "
   ]
  },
  {
   "cell_type": "markdown",
   "metadata": {
    "extensions": {
     "jupyter_dashboards": {
      "version": 1,
      "views": {
       "grid_default": {
        "col": 0,
        "height": 10,
        "hidden": false,
        "row": 24,
        "width": 12
       },
       "report_default": {
        "hidden": false
       }
      }
     }
    },
    "nbpresent": {
     "id": "408eb224-5f3a-4276-8e3f-0ca710cd333f"
    }
   },
   "source": [
    "# Pre processing gene expression data:\n",
    "Gene expression data needs to be extracted from GSE data structure. Preprocessing steps are:\n",
    "1. Extract the metadata\n",
    "2. Extract the gene expression data\n",
    "3. Add age index data to the gene expression data\n",
    "4. Get average for the genes with multiple probesets\n",
    "5. Select mixed and female samples \n",
    "6. Get the average gene expression for similar time points¶"
   ]
  },
  {
   "cell_type": "markdown",
   "metadata": {
    "extensions": {
     "jupyter_dashboards": {
      "version": 1,
      "views": {
       "grid_default": {
        "col": 8,
        "height": 4,
        "hidden": false,
        "row": 16,
        "width": 4
       },
       "report_default": {
        "hidden": false
       }
      }
     }
    },
    "nbpresent": {
     "id": "3c4dc992-ddf5-4f1e-8b33-e9d3db3548b4"
    }
   },
   "source": [
    "## 1) Extract  metadata of samples in gene expression data\n",
    "Complementary information about the samples is stores in  **gsm.metadata** including sex, developmental stage and the sample name. A sample metadata looks like:\n",
    "\n",
    "\"characteristics_ch1 : strain: wild type, developmental stage: adult, developmental timing: 1y9m, gender: mixed, number of individuals per sample: 2\"\n",
    "\n",
    "All these infomations are stored in an string and we need to extract them by some String Formatting Operations."
   ]
  },
  {
   "cell_type": "code",
   "execution_count": 1,
   "metadata": {
    "collapsed": true,
    "extensions": {
     "jupyter_dashboards": {
      "version": 1,
      "views": {
       "grid_default": {
        "col": 0,
        "height": 8,
        "hidden": false,
        "row": 62,
        "width": 4
       },
       "report_default": {
        "hidden": false
       }
      }
     }
    }
   },
   "outputs": [],
   "source": [
    "############### Extract GSE metadata\n",
    "characteristics = {\"stage\":[],\"time\":[],\"sex\":[],\"sample_name\":[]}\n",
    "# write your code here char_df.head()"
   ]
  },
  {
   "cell_type": "markdown",
   "metadata": {
    "extensions": {
     "jupyter_dashboards": {
      "version": 1,
      "views": {
       "grid_default": {
        "col": 0,
        "height": 4,
        "hidden": false,
        "row": 20,
        "width": 4
       },
       "report_default": {
        "hidden": false
       }
      }
     }
    },
    "nbpresent": {
     "id": "7fd2694c-3564-4ace-a615-29317bdc844f"
    }
   },
   "source": [
    "## 2) Extract the gene expression data"
   ]
  },
  {
   "cell_type": "code",
   "execution_count": null,
   "metadata": {
    "collapsed": true,
    "extensions": {
     "jupyter_dashboards": {
      "version": 1,
      "views": {
       "grid_default": {
        "hidden": true
       },
       "report_default": {
        "hidden": true
       }
      }
     }
    }
   },
   "outputs": [],
   "source": [
    "############### Extract the gene expression data\n",
    "# write your code here \n",
    "############# Add ProbeID as the index of gene expression dataframe\n",
    "# write your code here \n",
    "############ Let's visualize at the gene expression data\n",
    "# write your code here "
   ]
  },
  {
   "cell_type": "markdown",
   "metadata": {
    "extensions": {
     "jupyter_dashboards": {
      "version": 1,
      "views": {
       "grid_default": {
        "col": 8,
        "height": 4,
        "hidden": false,
        "row": 34,
        "width": 4
       },
       "report_default": {
        "hidden": false
       }
      }
     }
    },
    "nbpresent": {
     "id": "7bb4a299-bdc6-4738-b978-3789d427b9f9"
    }
   },
   "source": [
    "## 3) Add age index data to the gene expression data"
   ]
  },
  {
   "cell_type": "code",
   "execution_count": 2,
   "metadata": {
    "collapsed": true,
    "extensions": {
     "jupyter_dashboards": {
      "version": 1,
      "views": {
       "grid_default": {
        "col": 4,
        "height": 4,
        "hidden": false,
        "row": 20,
        "width": 4
       },
       "report_default": {
        "hidden": false
       }
      }
     }
    }
   },
   "outputs": [],
   "source": [
    "# write your code here "
   ]
  },
  {
   "cell_type": "code",
   "execution_count": 1,
   "metadata": {
    "collapsed": true,
    "extensions": {
     "jupyter_dashboards": {
      "version": 1,
      "views": {
       "grid_default": {
        "col": 0,
        "height": 12,
        "hidden": false,
        "row": 70,
        "width": 12
       },
       "report_default": {
        "hidden": false
       }
      }
     }
    },
    "scrolled": true
   },
   "outputs": [],
   "source": [
    "############ Sort by GeneID\n",
    "# write your code here \n"
   ]
  },
  {
   "cell_type": "markdown",
   "metadata": {
    "extensions": {
     "jupyter_dashboards": {
      "version": 1,
      "views": {
       "grid_default": {
        "col": 8,
        "height": 4,
        "hidden": false,
        "row": 38,
        "width": 4
       },
       "report_default": {
        "hidden": false
       }
      }
     }
    },
    "nbpresent": {
     "id": "333ea488-41b0-4811-b162-cf2bef415c00"
    }
   },
   "source": [
    "## 4) Get average for the genes with multiple probesets"
   ]
  },
  {
   "cell_type": "code",
   "execution_count": 4,
   "metadata": {
    "collapsed": true,
    "extensions": {
     "jupyter_dashboards": {
      "version": 1,
      "views": {
       "grid_default": {
        "col": 0,
        "height": 4,
        "hidden": false,
        "row": 42,
        "width": 4
       },
       "report_default": {
        "hidden": false
       }
      }
     }
    }
   },
   "outputs": [],
   "source": [
    "########### Average out multiple transcripts\n",
    "# write your code here "
   ]
  },
  {
   "cell_type": "markdown",
   "metadata": {
    "extensions": {
     "jupyter_dashboards": {
      "version": 1,
      "views": {
       "grid_default": {
        "col": 8,
        "height": 4,
        "hidden": false,
        "row": 20,
        "width": 4
       },
       "report_default": {
        "hidden": false
       }
      }
     }
    },
    "nbpresent": {
     "id": "e0616dfb-d94b-4eef-b293-6c555829d48b"
    }
   },
   "source": [
    "## 5) Select mixed and female samples"
   ]
  },
  {
   "cell_type": "code",
   "execution_count": 74,
   "metadata": {
    "collapsed": true,
    "extensions": {
     "jupyter_dashboards": {
      "version": 1,
      "views": {
       "grid_default": {
        "hidden": true
       },
       "report_default": {
        "hidden": true
       }
      }
     }
    }
   },
   "outputs": [],
   "source": [
    "# write your code here "
   ]
  },
  {
   "cell_type": "markdown",
   "metadata": {
    "extensions": {
     "jupyter_dashboards": {
      "version": 1,
      "views": {
       "grid_default": {
        "col": 0,
        "height": 4,
        "hidden": false,
        "row": 34,
        "width": 4
       },
       "report_default": {
        "hidden": false
       }
      }
     }
    },
    "nbpresent": {
     "id": "6f267dcd-e63e-4d25-905b-16e90ab715c5"
    }
   },
   "source": [
    "## 6) Get the average gene expression for similar time points"
   ]
  },
  {
   "cell_type": "code",
   "execution_count": 5,
   "metadata": {
    "collapsed": true,
    "extensions": {
     "jupyter_dashboards": {
      "version": 1,
      "views": {
       "grid_default": {
        "col": 0,
        "height": 10,
        "hidden": false,
        "row": 82,
        "width": 12
       },
       "report_default": {
        "hidden": false
       }
      }
     }
    }
   },
   "outputs": [],
   "source": [
    "########## find samples of the same time points\n",
    "\n",
    "# write your code here \n",
    "########### average the samples for similar time points\n",
    "# write your code here "
   ]
  },
  {
   "cell_type": "markdown",
   "metadata": {
    "extensions": {
     "jupyter_dashboards": {
      "version": 1,
      "views": {
       "grid_default": {
        "col": 0,
        "height": 4,
        "hidden": false,
        "row": 38,
        "width": 4
       },
       "report_default": {
        "hidden": false
       }
      }
     }
    },
    "nbpresent": {
     "id": "0aad5966-56bf-4d4c-a671-9df024a59977"
    }
   },
   "source": [
    "# TAI Calculation"
   ]
  },
  {
   "cell_type": "code",
   "execution_count": 6,
   "metadata": {
    "collapsed": true,
    "extensions": {
     "jupyter_dashboards": {
      "version": 1,
      "views": {
       "grid_default": {
        "col": 0,
        "height": 16,
        "hidden": false,
        "row": 92,
        "width": 4
       },
       "report_default": {
        "hidden": false
       }
      }
     }
    }
   },
   "outputs": [],
   "source": [
    "########### Calculating TAI\n",
    "# write your code here \n",
    "#### define color map\n",
    "\n",
    "# write your code here "
   ]
  },
  {
   "cell_type": "markdown",
   "metadata": {
    "extensions": {
     "jupyter_dashboards": {
      "version": 1,
      "views": {
       "grid_default": {
        "col": 8,
        "height": 4,
        "hidden": false,
        "row": 42,
        "width": 4
       },
       "report_default": {
        "hidden": false
       }
      }
     }
    },
    "nbpresent": {
     "id": "b004882a-8380-47c1-a279-5c3954b84bf6"
    }
   },
   "source": [
    "# Save the pre-processed expression data to a file"
   ]
  },
  {
   "cell_type": "code",
   "execution_count": null,
   "metadata": {
    "collapsed": true,
    "extensions": {
     "jupyter_dashboards": {
      "version": 1,
      "views": {
       "grid_default": {
        "hidden": true
       },
       "report_default": {
        "hidden": true
       }
      }
     }
    }
   },
   "outputs": [],
   "source": [
    "########### add age index to expression and write to file\n",
    "# write your code here "
   ]
  },
  {
   "cell_type": "markdown",
   "metadata": {
    "extensions": {
     "jupyter_dashboards": {
      "version": 1,
      "views": {
       "grid_default": {
        "col": 4,
        "height": 4,
        "hidden": false,
        "row": 42,
        "width": 4
       },
       "report_default": {
        "hidden": false
       }
      }
     }
    }
   },
   "source": [
    "## Plot histogram of gene expression data vs log values"
   ]
  },
  {
   "cell_type": "code",
   "execution_count": 7,
   "metadata": {
    "collapsed": true,
    "extensions": {
     "jupyter_dashboards": {
      "version": 1,
      "views": {
       "grid_default": {
        "col": 4,
        "height": 16,
        "hidden": false,
        "row": 92,
        "width": 4
       },
       "report_default": {
        "hidden": false
       }
      }
     }
    }
   },
   "outputs": [],
   "source": [
    "# write your code here \n"
   ]
  },
  {
   "cell_type": "markdown",
   "metadata": {
    "extensions": {
     "jupyter_dashboards": {
      "version": 1,
      "views": {
       "grid_default": {
        "col": 4,
        "height": 4,
        "hidden": false,
        "row": 62,
        "width": 4
       },
       "report_default": {
        "hidden": false
       }
      }
     }
    }
   },
   "source": [
    "## TAI calculation with log normalization of gene expression"
   ]
  },
  {
   "cell_type": "code",
   "execution_count": 9,
   "metadata": {
    "collapsed": true,
    "extensions": {
     "jupyter_dashboards": {
      "version": 1,
      "views": {
       "grid_default": {
        "col": 8,
        "height": 8,
        "hidden": false,
        "row": 62,
        "width": 4
       },
       "report_default": {
        "hidden": false
       }
      }
     }
    }
   },
   "outputs": [],
   "source": [
    "########### Calculating TAI\n",
    "# write your code here \n",
    "#### define color map\n",
    "\n",
    "# write your code here "
   ]
  },
  {
   "cell_type": "markdown",
   "metadata": {
    "extensions": {
     "jupyter_dashboards": {
      "version": 1,
      "views": {
       "grid_default": {
        "col": 0,
        "height": 4,
        "hidden": false,
        "row": 108,
        "width": 4
       },
       "report_default": {
        "hidden": false
       }
      }
     }
    }
   },
   "source": [
    "## TAI calculation with absolute log normalization of gene expression (Optional analysis)"
   ]
  },
  {
   "cell_type": "code",
   "execution_count": 10,
   "metadata": {
    "collapsed": true,
    "extensions": {
     "jupyter_dashboards": {
      "version": 1,
      "views": {
       "grid_default": {
        "col": 4,
        "height": 16,
        "hidden": false,
        "row": 108,
        "width": 4
       },
       "report_default": {
        "hidden": false
       }
      }
     }
    }
   },
   "outputs": [],
   "source": [
    "# write your code here \n",
    "\n",
    "#### define color map\n",
    "\n",
    "# write your code here "
   ]
  }
 ],
 "metadata": {
  "extensions": {
   "jupyter_dashboards": {
    "activeView": "report_default",
    "version": 1,
    "views": {
     "grid_default": {
      "cellMargin": 10,
      "defaultCellHeight": 20,
      "maxColumns": 12,
      "name": "grid",
      "type": "grid"
     },
     "report_default": {
      "name": "report",
      "type": "report"
     }
    }
   }
  },
  "kernelspec": {
   "display_name": "Python [conda env:py3]",
   "language": "python",
   "name": "conda-env-py3-py"
  },
  "language_info": {
   "codemirror_mode": {
    "name": "ipython",
    "version": 3
   },
   "file_extension": ".py",
   "mimetype": "text/x-python",
   "name": "python",
   "nbconvert_exporter": "python",
   "pygments_lexer": "ipython3",
   "version": "3.6.3"
  },
  "widgets": {
   "application/vnd.jupyter.widget-state+json": {
    "state": {},
    "version_major": 2,
    "version_minor": 0
   }
  }
 },
 "nbformat": 4,
 "nbformat_minor": 2
}
