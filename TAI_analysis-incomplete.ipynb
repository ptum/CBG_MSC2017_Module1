{
 "cells": [
  {
   "cell_type": "markdown",
   "metadata": {
    "extensions": {
     "jupyter_dashboards": {
      "version": 1,
      "views": {
       "grid_default": {},
       "report_default": {
        "hidden": false
       }
      }
     }
    }
   },
   "source": [
    "<!--associate:\n",
    "# The comment must be at the very beginning of a cell, by itself, starting with 'associate:'. \n",
    "# Since it is not meant to appear in the output when run, the assumption is that it can \n",
    "# require a cell to itself. This refers to  directories, relative to the notebook.\n",
    "TAI.png\n",
    "-->"
   ]
  },
  {
   "cell_type": "markdown",
   "metadata": {
    "extensions": {
     "jupyter_dashboards": {
      "version": 1,
      "views": {
       "grid_default": {
        "col": 0,
        "height": 6,
        "hidden": false,
        "row": 0,
        "width": 12
       },
       "report_default": {
        "hidden": false
       }
      }
     }
    },
    "nbpresent": {
     "id": "94ccb58c-75e6-45b9-a50b-c713674905a6"
    }
   },
   "source": [
    "# Module 1: Is the hourglass model for gene expression really supported by the data?\n",
    "### Paper to be examined: \n",
    "“A phylogenetically based transcriptome age index mirrors ontogenetic divergence patterns”, Nature 9;468(7325):815-8 (2010)[1]\n",
    "### Key claim of the paper: \n",
    "\"Gene expression follows the so-called hourglass pattern observed for morphological features of development, which are most similar to each other in the phylotypic stage in mid-development.\"\n",
    "\n",
    "### Schedule:\n",
    "* H1: General introduction to the paper/motivation\n",
    "* H2-3: Write code to import the data and start computing transcriptome age index (TAI)\n",
    "* H4-6: Aim to reproduce figure 1 of the paper – help/scripts will be given if needed.\n",
    "* H7: Discussion: “Are you convinced of this result? What might have gone wrong?”\n",
    "* H8: Redo analysis using log-transformed data\n",
    "* H9: Summarize results (e.g. on this wiki)\n",
    "\n",
    "\n",
    "### Key bioinformatics concept of this module: \n",
    "\"Data normalization is important and can impact the results of subsequent analyses!\"\n"
   ]
  },
  {
   "cell_type": "markdown",
   "metadata": {
    "extensions": {
     "jupyter_dashboards": {
      "version": 1,
      "views": {
       "grid_default": {
        "col": 4,
        "height": 4,
        "hidden": false,
        "row": 16,
        "width": 4
       },
       "report_default": {
        "hidden": false
       }
      }
     }
    },
    "nbpresent": {
     "id": "a8ffc5d5-1f8e-40cf-bc5d-261d462c3778"
    }
   },
   "source": [
    "# Installation and Setup\n",
    "\n",
    "* Install the Anaconda distribution of Python 3.x.\n"
   ]
  },
  {
   "cell_type": "markdown",
   "metadata": {
    "extensions": {
     "jupyter_dashboards": {
      "version": 1,
      "views": {
       "grid_default": {
        "col": 0,
        "height": 4,
        "hidden": false,
        "row": 46,
        "width": 12
       },
       "report_default": {
        "hidden": false
       }
      }
     }
    },
    "nbpresent": {
     "id": "fe718580-021c-43bb-ab0d-41037543f051"
    }
   },
   "source": [
    "# Libraries\n",
    "Will be using [**GEOparse**](https://geoparse.readthedocs.io/en/latest/usage.html#working-with-geo-accession) for for fetching gene expression data and [**pandas**](https://pandas.pydata.org/pandas-docs/stable/10min.html) for data manipulation and preprocessing."
   ]
  },
  {
   "cell_type": "code",
   "execution_count": null,
   "metadata": {
    "collapsed": true,
    "extensions": {
     "jupyter_dashboards": {
      "version": 1,
      "views": {
       "grid_default": {
        "hidden": true
       },
       "report_default": {
        "hidden": true
       }
      }
     }
    },
    "nbpresent": {
     "id": "cee38582-025b-4126-9b52-142612b10ffd"
    }
   },
   "outputs": [],
   "source": [
    "########### import necessary packages\n",
    "import pandas as pd\n",
    "import numpy as np\n",
    "import GEOparse\n",
    "import matplotlib.pyplot as plt"
   ]
  },
  {
   "cell_type": "markdown",
   "metadata": {
    "extensions": {
     "jupyter_dashboards": {
      "version": 1,
      "views": {
       "grid_default": {
        "col": 0,
        "height": 10,
        "hidden": false,
        "row": 6,
        "width": 12
       },
       "report_default": {
        "hidden": false
       }
      }
     }
    },
    "nbpresent": {
     "id": "ee3342b3-8f54-4db8-b879-7ab3f9997a65"
    }
   },
   "source": [
    "# Read gene expression data \n"
   ]
  },
  {
   "cell_type": "code",
   "execution_count": null,
   "metadata": {
    "extensions": {
     "jupyter_dashboards": {
      "version": 1,
      "views": {
       "grid_default": {
        "hidden": true
       },
       "report_default": {
        "hidden": true
       }
      }
     }
    }
   },
   "outputs": [],
   "source": [
    "############# Download the data\n",
    "file_name = 'GSE24616'\n",
    "# write your code here \n",
    "gse = GEOparse.get_GEO(geo=file_name, destdir=\"./\")"
   ]
  },
  {
   "cell_type": "markdown",
   "metadata": {
    "extensions": {
     "jupyter_dashboards": {
      "version": 1,
      "views": {
       "grid_default": {
        "col": 0,
        "height": 12,
        "hidden": false,
        "row": 50,
        "width": 12
       },
       "report_default": {
        "hidden": false
       }
      }
     }
    },
    "nbpresent": {
     "id": "cf0719ca-eef2-49ca-bf98-f9d185126b8a"
    }
   },
   "source": [
    "## GSE data structure:\n",
    "Let's take a look at gene expression data stucture and accession.\n",
    "\n",
    "**Data Sturcture:**\n",
    "    - gse.gsms\n",
    "        - gse.gsms.metadata\n",
    "        - gse.gsms.name\n",
    "        - gse.gsms.table\n",
    "    - gse.gpl\n",
    "        - gse.gpl.metadata\n",
    "        - gse.gpl.name\n",
    "        - gse.gpl.table\n",
    "        \n",
    "**GSE file name:** GSE24616"
   ]
  },
  {
   "cell_type": "code",
   "execution_count": null,
   "metadata": {
    "collapsed": true,
    "extensions": {
     "jupyter_dashboards": {
      "version": 1,
      "views": {
       "grid_default": {
        "hidden": true
       },
       "report_default": {
        "hidden": true
       }
      }
     }
    }
   },
   "outputs": [],
   "source": [
    "########### Explore an example of GSE content\n",
    "print (\"GSM example:\")\n",
    "for gsm_name, gsm in gse.gsms.items():\n",
    "    print (\"Name: \", gsm_name)\n",
    "    print ('*'*100)\n",
    "    print (\"Metadata:\"),\n",
    "    for key, value in gsm.metadata.items():\n",
    "        print(\" - %s : %s\" % (key, \", \".join(value)))\n",
    "    print('*'*100)\n",
    "    print (\"Table data:\"),\n",
    "    print (gsm.table.head())\n",
    "    break"
   ]
  },
  {
   "cell_type": "code",
   "execution_count": null,
   "metadata": {
    "collapsed": true,
    "extensions": {
     "jupyter_dashboards": {
      "version": 1,
      "views": {
       "grid_default": {
        "hidden": true
       },
       "report_default": {
        "hidden": true
       }
      }
     }
    }
   },
   "outputs": [],
   "source": [
    "print (\"GPL example:\")\n",
    "for gpl_name, gpl in gse.gpls.items():\n",
    "    print (\"Name: \", gpl_name)\n",
    "    print ('*'*100)\n",
    "    print (\"Metadata:\"),\n",
    "    for key, value in gpl.metadata.items():\n",
    "        print (\" - %s : %s\" % (key, \", \".join(value)))\n",
    "    print ('*'*100)\n",
    "    print (\"Table data:\"),\n",
    "    print (gpl.table.head())\n",
    "    break"
   ]
  },
  {
   "cell_type": "markdown",
   "metadata": {
    "extensions": {
     "jupyter_dashboards": {
      "version": 1,
      "views": {
       "grid_default": {
        "col": 0,
        "height": 4,
        "hidden": false,
        "row": 16,
        "width": 4
       },
       "report_default": {
        "hidden": false
       }
      }
     }
    },
    "nbpresent": {
     "id": "3e38e7a7-46fe-4d24-8142-44c4f15e7966"
    }
   },
   "source": [
    "# Read age index data file"
   ]
  },
  {
   "cell_type": "code",
   "execution_count": null,
   "metadata": {
    "collapsed": true,
    "extensions": {
     "jupyter_dashboards": {
      "version": 1,
      "views": {
       "grid_default": {
        "col": 4,
        "height": 8,
        "hidden": false,
        "row": 34,
        "width": 4
       },
       "report_default": {
        "hidden": false
       }
      }
     }
    }
   },
   "outputs": [],
   "source": [
    "########### Read in age index data\n",
    "age_index = pd.read_csv('danio_age_index.txt', sep='\\t', header=None)\n",
    "age_index.columns = [\"GeneID\",\"ProbeID\",\"age\"]\n",
    "########### Set ProbeID as the index of dataframe\n",
    "age_index.set_index('ProbeID',inplace=True)\n",
    "age_index.head()"
   ]
  },
  {
   "cell_type": "markdown",
   "metadata": {
    "extensions": {
     "jupyter_dashboards": {
      "version": 1,
      "views": {
       "grid_default": {
        "col": 0,
        "height": 10,
        "hidden": false,
        "row": 24,
        "width": 12
       },
       "report_default": {
        "hidden": false
       }
      }
     }
    },
    "nbpresent": {
     "id": "408eb224-5f3a-4276-8e3f-0ca710cd333f"
    }
   },
   "source": [
    "# Pre processing gene expression data:\n",
    "Gene expression data needs to be extracted from GSE data structure. Preprocessing steps are:\n",
    "1. Extract the metadata\n",
    "2. Extract the gene expression data\n",
    "3. Add age index data to the gene expression data\n",
    "4. Get average for the genes with multiple probesets\n",
    "5. Select mixed and female samples \n",
    "6. Get the average gene expression for similar time points¶"
   ]
  },
  {
   "cell_type": "markdown",
   "metadata": {
    "extensions": {
     "jupyter_dashboards": {
      "version": 1,
      "views": {
       "grid_default": {
        "col": 8,
        "height": 4,
        "hidden": false,
        "row": 16,
        "width": 4
       },
       "report_default": {
        "hidden": false
       }
      }
     }
    },
    "nbpresent": {
     "id": "3c4dc992-ddf5-4f1e-8b33-e9d3db3548b4"
    }
   },
   "source": [
    "## 1) Extract  metadata of samples in gene expression data\n",
    "Complementary information about the samples is stores in  **gsm.metadata** including sex, developmental stage and the sample name. A sample metadata looks like:\n",
    "\n",
    "\"characteristics_ch1 : strain: wild type, developmental stage: adult, developmental timing: 1y9m, gender: mixed, number of individuals per sample: 2\"\n",
    "\n",
    "All these infomations are stored in an string and we need to extract them by some String Formatting Operations."
   ]
  },
  {
   "cell_type": "code",
   "execution_count": null,
   "metadata": {
    "collapsed": true,
    "extensions": {
     "jupyter_dashboards": {
      "version": 1,
      "views": {
       "grid_default": {
        "col": 0,
        "height": 8,
        "hidden": false,
        "row": 62,
        "width": 4
       },
       "report_default": {
        "hidden": false
       }
      }
     }
    }
   },
   "outputs": [],
   "source": [
    "############### Extract GSE metadata\n",
    "characteristics = {\"stage\":[],\"time\":[],\"sex\":[],\"sample_name\":[]}\n",
    "for gsm_name, gsm in sorted(gse.gsms.items()): # gsm: metadata, columns, table\n",
    "    characteristics[\"stage\"].append(gsm.metadata['characteristics_ch1'][1].split(\":\")[1].strip())\n",
    "    characteristics[\"time\"].append(gsm.metadata['characteristics_ch1'][2].split(\":\")[1].strip())\n",
    "    characteristics[\"sex\"].append(gsm.metadata['characteristics_ch1'][3].split(\":\")[1].strip())\n",
    "    characteristics[\"sample_name\"].append(gsm_name)\n",
    "char_df = pd.DataFrame(characteristics,index = characteristics[\"sample_name\"])\n",
    "char_df.head()"
   ]
  },
  {
   "cell_type": "markdown",
   "metadata": {
    "extensions": {
     "jupyter_dashboards": {
      "version": 1,
      "views": {
       "grid_default": {
        "col": 0,
        "height": 4,
        "hidden": false,
        "row": 20,
        "width": 4
       },
       "report_default": {
        "hidden": false
       }
      }
     }
    },
    "nbpresent": {
     "id": "7fd2694c-3564-4ace-a615-29317bdc844f"
    }
   },
   "source": [
    "## 2) Extract the gene expression data"
   ]
  },
  {
   "cell_type": "code",
   "execution_count": null,
   "metadata": {
    "collapsed": true,
    "extensions": {
     "jupyter_dashboards": {
      "version": 1,
      "views": {
       "grid_default": {
        "hidden": true
       },
       "report_default": {
        "hidden": true
       }
      }
     }
    }
   },
   "outputs": [],
   "source": [
    "############### Extract the gene expression data\n",
    "data = gse.pivot_samples('VALUE') \n",
    "############# Add ProbeID as the index of gene expression dataframe\n",
    "gpl = list(gse.gpls.values())[0]\n",
    "data.set_index(gpl.table.SPOT_ID,inplace=True)\n",
    "############ Let's look at the gene expression data\n",
    "data.head()\n",
    "plt.imshow(np.log(data.values),aspect='auto')\n",
    "plt.show()"
   ]
  },
  {
   "cell_type": "markdown",
   "metadata": {
    "extensions": {
     "jupyter_dashboards": {
      "version": 1,
      "views": {
       "grid_default": {
        "col": 8,
        "height": 4,
        "hidden": false,
        "row": 34,
        "width": 4
       },
       "report_default": {
        "hidden": false
       }
      }
     }
    },
    "nbpresent": {
     "id": "7bb4a299-bdc6-4738-b978-3789d427b9f9"
    }
   },
   "source": [
    "## 3) Add age index data to the gene expression data"
   ]
  },
  {
   "cell_type": "code",
   "execution_count": null,
   "metadata": {
    "collapsed": true,
    "extensions": {
     "jupyter_dashboards": {
      "version": 1,
      "views": {
       "grid_default": {
        "col": 4,
        "height": 4,
        "hidden": false,
        "row": 20,
        "width": 4
       },
       "report_default": {
        "hidden": false
       }
      }
     }
    }
   },
   "outputs": [],
   "source": [
    "matched_data =data.join(age_index,how='inner').groupby(level=0).last()\n",
    "print(\"Age index data dimensios: \",age_index.shape)\n",
    "print (\"Gene expression data dimensions: \", data.shape)\n",
    "print (\"Number of genes with age index: \",matched_data.shape)\n"
   ]
  },
  {
   "cell_type": "markdown",
   "metadata": {
    "extensions": {
     "jupyter_dashboards": {
      "version": 1,
      "views": {
       "grid_default": {
        "col": 8,
        "height": 4,
        "hidden": false,
        "row": 38,
        "width": 4
       },
       "report_default": {
        "hidden": false
       }
      }
     }
    },
    "nbpresent": {
     "id": "333ea488-41b0-4811-b162-cf2bef415c00"
    }
   },
   "source": [
    "## 4) Get average for the genes with multiple probesets"
   ]
  },
  {
   "cell_type": "code",
   "execution_count": null,
   "metadata": {
    "collapsed": true,
    "extensions": {
     "jupyter_dashboards": {
      "version": 1,
      "views": {
       "grid_default": {
        "col": 0,
        "height": 4,
        "hidden": false,
        "row": 42,
        "width": 4
       },
       "report_default": {
        "hidden": false
       }
      }
     }
    }
   },
   "outputs": [],
   "source": [
    "########### Average out multiple transcripts\n",
    "unique_data = matched_data.groupby('GeneID').mean()\n",
    "print (\"Number of unique transcripts: \",unique_data.shape[0])"
   ]
  },
  {
   "cell_type": "markdown",
   "metadata": {
    "extensions": {
     "jupyter_dashboards": {
      "version": 1,
      "views": {
       "grid_default": {
        "col": 8,
        "height": 4,
        "hidden": false,
        "row": 20,
        "width": 4
       },
       "report_default": {
        "hidden": false
       }
      }
     }
    },
    "nbpresent": {
     "id": "e0616dfb-d94b-4eef-b293-6c555829d48b"
    }
   },
   "source": [
    "## 5) Select mixed and female samples"
   ]
  },
  {
   "cell_type": "code",
   "execution_count": null,
   "metadata": {
    "collapsed": true,
    "extensions": {
     "jupyter_dashboards": {
      "version": 1,
      "views": {
       "grid_default": {
        "hidden": true
       },
       "report_default": {
        "hidden": true
       }
      }
     }
    }
   },
   "outputs": [],
   "source": [
    "char_df= char_df[char_df[\"sex\"]!=\"male\"]"
   ]
  },
  {
   "cell_type": "markdown",
   "metadata": {
    "extensions": {
     "jupyter_dashboards": {
      "version": 1,
      "views": {
       "grid_default": {
        "col": 0,
        "height": 4,
        "hidden": false,
        "row": 34,
        "width": 4
       },
       "report_default": {
        "hidden": false
       }
      }
     }
    },
    "nbpresent": {
     "id": "6f267dcd-e63e-4d25-905b-16e90ab715c5"
    }
   },
   "source": [
    "## 6) Get the average gene expression for similar time points"
   ]
  },
  {
   "cell_type": "code",
   "execution_count": null,
   "metadata": {
    "collapsed": true,
    "extensions": {
     "jupyter_dashboards": {
      "version": 1,
      "views": {
       "grid_default": {
        "col": 0,
        "height": 10,
        "hidden": false,
        "row": 82,
        "width": 12
       },
       "report_default": {
        "hidden": false
       }
      }
     }
    }
   },
   "outputs": [],
   "source": [
    "########## find samples of the same time points\n",
    "\n",
    "experiment_index=[]\n",
    "time_stamps = char_df.time.unique()\n",
    "for t in time_stamps:\n",
    "    experiment_index.append(char_df[char_df['time']==t].index.tolist())\n",
    "########### average the samples for similar time points\n",
    "set_mean = {}\n",
    "stages = []\n",
    "timestamps=[]\n",
    "for d in range(len(experiment_index)) :\n",
    "    sample_list = experiment_index[d]\n",
    "    set_mean[d] = unique_data[sample_list].mean(axis=1)\n",
    "    stages.append(char_df[char_df.index.isin(sample_list)].stage[0])\n",
    "    timestamps.append(char_df[char_df.index.isin(sample_list)].time[0])\n",
    "mean_data = pd.DataFrame(set_mean )\n",
    "mean_data.columns= stages\n",
    "mean_data.head()"
   ]
  },
  {
   "cell_type": "markdown",
   "metadata": {
    "extensions": {
     "jupyter_dashboards": {
      "version": 1,
      "views": {
       "grid_default": {
        "col": 0,
        "height": 4,
        "hidden": false,
        "row": 38,
        "width": 4
       },
       "report_default": {
        "hidden": false
       }
      }
     }
    },
    "nbpresent": {
     "id": "0aad5966-56bf-4d4c-a671-9df024a59977"
    }
   },
   "source": [
    "# TAI Calculation"
   ]
  },
  {
   "cell_type": "code",
   "execution_count": null,
   "metadata": {
    "collapsed": true,
    "extensions": {
     "jupyter_dashboards": {
      "version": 1,
      "views": {
       "grid_default": {
        "col": 0,
        "height": 16,
        "hidden": false,
        "row": 92,
        "width": 4
       },
       "report_default": {
        "hidden": false
       }
      }
     }
    }
   },
   "outputs": [],
   "source": [
    "#### Calculating TAI  with looping over developmental stage\n",
    "TAI=[]\n",
    "for i in range(expression_data.shape[1]):\n",
    "    TAI_i=0\n",
    "    for g in range(expression_data.shape[0]):\n",
    "        TAI_i+=age_indices.values[g]* expression_data[g,i]\n",
    "    TAI.append(TAI_i/sum(expression_data[:,i]))\n",
    "\n",
    "unique_stages= list(set(stages))\n",
    "color_list = plt.cm.tab10(np.linspace(0, 1, len(unique_stages))) \n",
    "color = {unique_stages[i]:color_list[i] for i in range(len(unique_stages))}\n",
    "my_col= [color[i] for i in stages]\n",
    "\n",
    "plt.figure(figsize=(20,10))\n",
    "plt.scatter(range(len(TAI)),TAI,color=my_col,linestyle='-')\n",
    "plt.xticks(range(len(TAI)),timestamps,rotation=45,size=12)\n",
    "plt.ylabel(\"Transcriptome Age Index\",size=30)\n",
    "plt.xlabel(\"Developmental timing\",size=30)\n",
    "markers = [plt.Line2D([0,0],[0,0],color=c, marker='o', linestyle='') for c in color.values()]\n",
    "plt.legend(markers,color.keys(),loc='upper center')\n",
    "plt.savefig('TAI.png')\n",
    "plt.show()"
   ]
  },
  {
   "cell_type": "code",
   "execution_count": null,
   "metadata": {
    "collapsed": true
   },
   "outputs": [],
   "source": [
    "########### Calculating TAI with matrix maltiplication\n",
    "age_indices =unique_data['age']\n",
    "expression_data = mean_data.values\n",
    "product = np.dot(expression_data.T,age_indices)\n",
    "mean_expression = expression_data.T.sum(1)\n",
    "TAI = np.divide(product,mean_expression)\n",
    "\n",
    "\n",
    "#### define color map\n",
    "\n",
    "unique_stages= list(set(stages))\n",
    "color_list = plt.cm.tab10(np.linspace(0, 1, len(unique_stages))) \n",
    "color = {unique_stages[i]:color_list[i] for i in range(len(unique_stages))}\n",
    "my_col= [color[i] for i in stages]\n",
    "\n",
    "plt.figure(figsize=(20,10))\n",
    "plt.scatter(range(len(TAI)),TAI,color=my_col,linestyle='-')\n",
    "plt.xticks(range(len(TAI)),timestamps,rotation=45,size=12)\n",
    "plt.ylabel(\"Transcriptome Age Index\",size=30)\n",
    "plt.xlabel(\"Developmental timing\",size=30)\n",
    "markers = [plt.Line2D([0,0],[0,0],color=c, marker='o', linestyle='') for c in color.values()]\n",
    "plt.legend(markers,color.keys(),loc='upper center')\n",
    "plt.savefig('TAI.png')\n",
    "plt.show()\n"
   ]
  },
  {
   "cell_type": "markdown",
   "metadata": {
    "extensions": {
     "jupyter_dashboards": {
      "version": 1,
      "views": {
       "grid_default": {
        "col": 8,
        "height": 4,
        "hidden": false,
        "row": 42,
        "width": 4
       },
       "report_default": {
        "hidden": false
       }
      }
     }
    },
    "nbpresent": {
     "id": "b004882a-8380-47c1-a279-5c3954b84bf6"
    }
   },
   "source": [
    "# Save the pre-processed expression data to a file"
   ]
  },
  {
   "cell_type": "code",
   "execution_count": null,
   "metadata": {
    "collapsed": true,
    "extensions": {
     "jupyter_dashboards": {
      "version": 1,
      "views": {
       "grid_default": {
        "hidden": true
       },
       "report_default": {
        "hidden": true
       }
      }
     }
    }
   },
   "outputs": [],
   "source": [
    "########### add age index to expression and write to file\n",
    "mean_data.join(unique_data['age']).reset_index().to_csv(\"ProcessedMicroarrayData_py.txt\",sep='\\t',index=False)"
   ]
  },
  {
   "cell_type": "markdown",
   "metadata": {
    "extensions": {
     "jupyter_dashboards": {
      "version": 1,
      "views": {
       "grid_default": {
        "col": 4,
        "height": 4,
        "hidden": false,
        "row": 42,
        "width": 4
       },
       "report_default": {
        "hidden": false
       }
      }
     }
    }
   },
   "source": [
    "## Plot histogram of gene expression data vs log values"
   ]
  },
  {
   "cell_type": "code",
   "execution_count": null,
   "metadata": {
    "collapsed": true,
    "extensions": {
     "jupyter_dashboards": {
      "version": 1,
      "views": {
       "grid_default": {
        "col": 4,
        "height": 16,
        "hidden": false,
        "row": 92,
        "width": 4
       },
       "report_default": {
        "hidden": false
       }
      }
     }
    }
   },
   "outputs": [],
   "source": [
    "plt.figure()\n",
    "plt.hist(expression_data.reshape((expression_data.shape[0]*expression_data.shape[1],1)),bins=100)\n",
    "plt.show()\n",
    "\n",
    "plt.figure()\n",
    "plt.hist(np.log(expression_data.reshape((expression_data.shape[0]*expression_data.shape[1],1))),bins=100)\n",
    "plt.show()\n"
   ]
  },
  {
   "cell_type": "markdown",
   "metadata": {
    "extensions": {
     "jupyter_dashboards": {
      "version": 1,
      "views": {
       "grid_default": {
        "col": 4,
        "height": 4,
        "hidden": false,
        "row": 62,
        "width": 4
       },
       "report_default": {
        "hidden": false
       }
      }
     }
    }
   },
   "source": [
    "## TAI calculation with log normalization of gene expression"
   ]
  },
  {
   "cell_type": "code",
   "execution_count": null,
   "metadata": {
    "collapsed": true,
    "extensions": {
     "jupyter_dashboards": {
      "version": 1,
      "views": {
       "grid_default": {
        "col": 8,
        "height": 8,
        "hidden": false,
        "row": 62,
        "width": 4
       },
       "report_default": {
        "hidden": false
       }
      }
     }
    }
   },
   "outputs": [],
   "source": [
    "########### Calculating TAI\n",
    "\n",
    "\n",
    "age_indices =unique_data['age']\n",
    "expression_data = np.log(mean_data.values)\n",
    "product = np.dot(expression_data.T,age_indices)\n",
    "mean_expression = expression_data.T.sum(1)\n",
    "TAI = np.divide(product,mean_expression)\n",
    "\n",
    "#### define color map\n",
    "\n",
    "unique_stages= list(set(stages))\n",
    "color_list = plt.cm.tab10(np.linspace(0, 1, len(unique_stages))) \n",
    "color = {unique_stages[i]:color_list[i] for i in range(len(unique_stages))}\n",
    "my_col= [color[i] for i in stages]\n",
    "\n",
    "plt.figure(figsize=(20,10))\n",
    "plt.scatter(range(len(TAI)),TAI,color=my_col,linestyle='-')\n",
    "plt.xticks(range(len(TAI)),timestamps,rotation=45,size=12)\n",
    "plt.ylabel(\"Transcriptome Age Index\",size=30)\n",
    "plt.xlabel(\"Developmental timing\",size=30)\n",
    "markers = [plt.Line2D([0,0],[0,0],color=c, marker='o', linestyle='') for c in color.values()]\n",
    "plt.legend(markers,color.keys(),loc='upper center')\n",
    "plt.savefig('TAI.png')\n",
    "plt.show()\n"
   ]
  },
  {
   "cell_type": "markdown",
   "metadata": {
    "extensions": {
     "jupyter_dashboards": {
      "version": 1,
      "views": {
       "grid_default": {
        "col": 0,
        "height": 4,
        "hidden": false,
        "row": 108,
        "width": 4
       },
       "report_default": {
        "hidden": false
       }
      }
     }
    }
   },
   "source": [
    "## TAI calculation with z-score normalization of gene expression\n"
   ]
  },
  {
   "cell_type": "code",
   "execution_count": null,
   "metadata": {
    "collapsed": true,
    "extensions": {
     "jupyter_dashboards": {
      "version": 1,
      "views": {
       "grid_default": {
        "col": 4,
        "height": 16,
        "hidden": false,
        "row": 108,
        "width": 4
       },
       "report_default": {
        "hidden": false
       }
      }
     }
    }
   },
   "outputs": [],
   "source": [
    "########### Calculating TAI\n",
    "\n",
    "\n",
    "age_indices =unique_data['age']\n",
    "expression_data = (mean_data.apply(lambda x:(x-(sum(x)/len(x)))/np.std(x))).values\n",
    "print(expression_data)\n",
    "product = np.dot(expression_data.T,age_indices)\n",
    "mean_expression = expression_data.T.sum(1)\n",
    "TAI = np.divide(product,mean_expression)\n",
    "\n",
    "#### define color map\n",
    "\n",
    "unique_stages= list(set(stages))\n",
    "color_list = plt.cm.tab10(np.linspace(0, 1, len(unique_stages))) \n",
    "color = {unique_stages[i]:color_list[i] for i in range(len(unique_stages))}\n",
    "my_col= [color[i] for i in stages]\n",
    "\n",
    "plt.figure(figsize=(20,10))\n",
    "plt.scatter(range(len(TAI)),TAI,color=my_col,linestyle='-')\n",
    "plt.xticks(range(len(TAI)),timestamps,rotation=45,size=12)\n",
    "plt.ylabel(\"Transcriptome Age Index\",size=30)\n",
    "plt.xlabel(\"Developmental timing\",size=30)\n",
    "markers = [plt.Line2D([0,0],[0,0],color=c, marker='o', linestyle='') for c in color.values()]\n",
    "plt.legend(markers,color.keys(),loc='upper center')\n",
    "plt.savefig('TAI.png')\n",
    "plt.show()\n",
    "\n",
    "plt.figure()\n",
    "plt.hist(expression_data.reshape((expression_data.shape[0]*expression_data.shape[1],1)),bins=1000)\n",
    "plt.show()\n"
   ]
  },
  {
   "cell_type": "markdown",
   "metadata": {},
   "source": [
    "## TAI calculation with absolute  normalization of gene expression\n"
   ]
  },
  {
   "cell_type": "code",
   "execution_count": null,
   "metadata": {
    "collapsed": true
   },
   "outputs": [],
   "source": [
    "age_indices =unique_data['age']\n",
    "expression_data  = (mean_data.apply(lambda x:np.abs(x-(sum(x)/len(x)))/np.std(x),axis=0)).values\n",
    "print(expression_data.shape)\n",
    "product = np.dot(expression_data.T,age_indices)\n",
    "mean_expression = expression_data.T.sum(1)\n",
    "TAI = np.divide(product,mean_expression)\n",
    "\n",
    "#### define color map\n",
    "\n",
    "unique_stages= list(set(stages))\n",
    "color_list = plt.cm.tab10(np.linspace(0, 1, len(unique_stages))) \n",
    "color = {unique_stages[i]:color_list[i] for i in range(len(unique_stages))}\n",
    "my_col= [color[i] for i in stages]\n",
    "\n",
    "plt.figure(figsize=(20,10))\n",
    "plt.scatter(range(len(TAI)),TAI,color=my_col,linestyle='-')\n",
    "plt.xticks(range(len(TAI)),timestamps,rotation=45,size=12)\n",
    "plt.ylabel(\"Transcriptome Age Index\",size=30)\n",
    "plt.xlabel(\"Developmental timing\",size=30)\n",
    "markers = [plt.Line2D([0,0],[0,0],color=c, marker='o', linestyle='') for c in color.values()]\n",
    "plt.legend(markers,color.keys(),loc='upper center')\n",
    "plt.savefig('TAI.png')\n",
    "plt.show()\n",
    "\n",
    "plt.figure()\n",
    "plt.hist(expression_data.reshape((expression_data.shape[0]*expression_data.shape[1],1)),bins=100)\n",
    "plt.show()"
   ]
  }
 ],
 "metadata": {
  "extensions": {
   "jupyter_dashboards": {
    "activeView": "report_default",
    "version": 1,
    "views": {
     "grid_default": {
      "cellMargin": 10,
      "defaultCellHeight": 20,
      "maxColumns": 12,
      "name": "grid",
      "type": "grid"
     },
     "report_default": {
      "name": "report",
      "type": "report"
     }
    }
   }
  },
  "kernelspec": {
   "display_name": "Python [conda env:py3]",
   "language": "python",
   "name": "conda-env-py3-py"
  },
  "language_info": {
   "codemirror_mode": {
    "name": "ipython",
    "version": 3
   },
   "file_extension": ".py",
   "mimetype": "text/x-python",
   "name": "python",
   "nbconvert_exporter": "python",
   "pygments_lexer": "ipython3",
   "version": "3.6.3"
  },
  "widgets": {
   "application/vnd.jupyter.widget-state+json": {
    "state": {},
    "version_major": 2,
    "version_minor": 0
   }
  }
 },
 "nbformat": 4,
 "nbformat_minor": 2
}
